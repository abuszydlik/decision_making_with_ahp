{
 "cells": [
  {
   "cell_type": "code",
   "execution_count": 84,
   "metadata": {},
   "outputs": [],
   "source": [
    "import numpy as np\n",
    "import warnings"
   ]
  },
  {
   "cell_type": "code",
   "execution_count": 90,
   "metadata": {},
   "outputs": [],
   "source": [
    "matrix = np.array([[1    , 1 / 4, 1 / 3, 1 / 7],\n",
    "                   [4    , 1    , 1 / 2, 1 / 7],\n",
    "                   [3    , 2    , 1    , 1 / 6],\n",
    "                   [7    , 7    , 6    , 1    ]])\n",
    "\n",
    "matrix = matrix.T\n",
    "\n",
    "matrix = np.array([[1    , 1 / 3, 3    , 1    , 3    , 1    ],\n",
    "                   [3    , 1    , 4    , 2    , 4    , 2    ],\n",
    "                   [1 / 3, 1 / 4, 1    , 1 / 3, 2    , 1 / 3],\n",
    "                   [1    , 1 / 2, 3    , 1    , 2    , 1    ],\n",
    "                   [1 / 3, 1 / 4, 1 / 2, 1 / 2, 1    , 1 / 3],\n",
    "                   [1    , 1 / 2, 3    , 1    , 3    , 1    ]])"
   ]
  },
  {
   "cell_type": "code",
   "execution_count": 91,
   "metadata": {},
   "outputs": [],
   "source": [
    "def calculate_consistency_ratio(matrix):\n",
    "    \"\"\"\n",
    "    Calculates the consistency ratio of a given pairwise comparison matrix.\n",
    "    \"\"\"\n",
    "    \n",
    "    eigenvalues, _ = np.linalg.eig(matrix)\n",
    "    num_alternatives = len(matrix)\n",
    "    \n",
    "    assert 2 < num_alternatives < 9\n",
    "    random_indices = [0, 0, 0, 0.52, 0.89, 1.11, 1.25, 1.35, 1.40, 1.45]\n",
    "    \n",
    "    ratio = np.abs(((eigenvalues[0] - num_alternatives) / (num_alternatives - 1)) / random_indices[num_alternatives])\n",
    "    if ratio > 0.1:\n",
    "        message = f\"Consistency ratio of {np.round(ratio, 3)} indicates lack of consistency!\"\n",
    "        warnings.warn(message)\n",
    "        \n",
    "    return ratio"
   ]
  },
  {
   "cell_type": "code",
   "execution_count": 92,
   "metadata": {},
   "outputs": [],
   "source": [
    "def find_eigenvector_weights(matrix):\n",
    "    \"\"\"\n",
    "    Finds the weights assigned to alternatives using the first eigenvectors.\n",
    "    \"\"\"\n",
    "\n",
    "    _, eigenvectors = np.linalg.eig(matrix)\n",
    "    return np.abs(eigenvectors[:, 0]) / np.sum(np.abs(eigenvectors[:, 0]))"
   ]
  },
  {
   "cell_type": "code",
   "execution_count": 93,
   "metadata": {},
   "outputs": [],
   "source": [
    "def find_geometric_weights(matrix):\n",
    "    \"\"\"\n",
    "    Finds the weights assigned to alternatives using the geometric mean of matrix rows.\n",
    "    \"\"\"\n",
    "\n",
    "    weights = np.prod(matrix, axis=1) ** (1 / len(matrix[0]))\n",
    "    return weights / np.sum(weights)"
   ]
  },
  {
   "cell_type": "code",
   "execution_count": 94,
   "metadata": {},
   "outputs": [
    {
     "name": "stdout",
     "output_type": "stream",
     "text": [
      "0.023192207855511245\n",
      "[0.17047229 0.34237709 0.07482645 0.16949452 0.06307122 0.17975843]\n",
      "[0.17059256 0.34118511 0.07306469 0.17059256 0.06204586 0.18251923]\n"
     ]
    }
   ],
   "source": [
    "print(calculate_consistency_ratio(matrix))\n",
    "print(find_eigenvector_weights(matrix))\n",
    "print(find_geometric_weights(matrix))"
   ]
  }
 ],
 "metadata": {
  "kernelspec": {
   "display_name": "Python 3",
   "language": "python",
   "name": "python3"
  },
  "language_info": {
   "codemirror_mode": {
    "name": "ipython",
    "version": 3
   },
   "file_extension": ".py",
   "mimetype": "text/x-python",
   "name": "python",
   "nbconvert_exporter": "python",
   "pygments_lexer": "ipython3",
   "version": "3.8.5"
  }
 },
 "nbformat": 4,
 "nbformat_minor": 4
}
